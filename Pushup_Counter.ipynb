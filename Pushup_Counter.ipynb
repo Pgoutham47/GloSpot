{
  "nbformat": 4,
  "nbformat_minor": 0,
  "metadata": {
    "colab": {
      "name": "Pushup Counter.ipynb",
      "provenance": [],
      "authorship_tag": "ABX9TyNbnZRw4eWixcdALM+ff/n+",
      "include_colab_link": true
    },
    "kernelspec": {
      "name": "python3",
      "display_name": "Python 3"
    },
    "language_info": {
      "name": "python"
    }
  },
  "cells": [
    {
      "cell_type": "markdown",
      "metadata": {
        "id": "view-in-github",
        "colab_type": "text"
      },
      "source": [
        "<a href=\"https://colab.research.google.com/github/Hrithik-Nigam/Pushup-Counter/blob/main/Pushup_Counter.ipynb\" target=\"_parent\"><img src=\"https://colab.research.google.com/assets/colab-badge.svg\" alt=\"Open In Colab\"/></a>"
      ]
    },
    {
      "cell_type": "code",
      "metadata": {
        "id": "lg_WrgVj6pJs",
        "colab": {
          "base_uri": "https://localhost:8080/"
        },
        "outputId": "bb82551a-3938-4323-f1b0-e1d0a9551d9a"
      },
      "source": [
        "!pip install mediapipe opencv-python"
      ],
      "execution_count": 2,
      "outputs": [
        {
          "output_type": "stream",
          "name": "stdout",
          "text": [
            "Collecting mediapipe\n",
            "  Downloading mediapipe-0.8.9.1-cp37-cp37m-manylinux_2_17_x86_64.manylinux2014_x86_64.whl (32.7 MB)\n",
            "\u001b[K     |████████████████████████████████| 32.7 MB 207 kB/s \n",
            "\u001b[?25hRequirement already satisfied: opencv-python in /usr/local/lib/python3.7/dist-packages (4.1.2.30)\n",
            "Requirement already satisfied: matplotlib in /usr/local/lib/python3.7/dist-packages (from mediapipe) (3.2.2)\n",
            "Requirement already satisfied: opencv-contrib-python in /usr/local/lib/python3.7/dist-packages (from mediapipe) (4.1.2.30)\n",
            "Requirement already satisfied: protobuf>=3.11.4 in /usr/local/lib/python3.7/dist-packages (from mediapipe) (3.17.3)\n",
            "Requirement already satisfied: attrs>=19.1.0 in /usr/local/lib/python3.7/dist-packages (from mediapipe) (21.4.0)\n",
            "Requirement already satisfied: absl-py in /usr/local/lib/python3.7/dist-packages (from mediapipe) (0.12.0)\n",
            "Requirement already satisfied: numpy in /usr/local/lib/python3.7/dist-packages (from mediapipe) (1.19.5)\n",
            "Requirement already satisfied: six>=1.9 in /usr/local/lib/python3.7/dist-packages (from protobuf>=3.11.4->mediapipe) (1.15.0)\n",
            "Requirement already satisfied: pyparsing!=2.0.4,!=2.1.2,!=2.1.6,>=2.0.1 in /usr/local/lib/python3.7/dist-packages (from matplotlib->mediapipe) (3.0.6)\n",
            "Requirement already satisfied: python-dateutil>=2.1 in /usr/local/lib/python3.7/dist-packages (from matplotlib->mediapipe) (2.8.2)\n",
            "Requirement already satisfied: cycler>=0.10 in /usr/local/lib/python3.7/dist-packages (from matplotlib->mediapipe) (0.11.0)\n",
            "Requirement already satisfied: kiwisolver>=1.0.1 in /usr/local/lib/python3.7/dist-packages (from matplotlib->mediapipe) (1.3.2)\n",
            "Installing collected packages: mediapipe\n",
            "Successfully installed mediapipe-0.8.9.1\n"
          ]
        }
      ]
    },
    {
      "cell_type": "code",
      "source": [
        "import cv2\n",
        "import mediapipe as mp\n",
        "import numpy as np\n",
        "mp_drawing=mp.solutions.drawing_utils\n",
        "mp_pose=mp.solutions.pose"
      ],
      "metadata": {
        "id": "aKw1y58MTyJ6"
      },
      "execution_count": 3,
      "outputs": []
    },
    {
      "cell_type": "code",
      "source": [
        "def calculate_angle(a,b,c):\n",
        "    a = np.array(a) # First\n",
        "    b = np.array(b) # Mid\n",
        "    c = np.array(c) # End\n",
        "    \n",
        "    radians = np.arctan2(c[1]-b[1], c[0]-b[0]) - np.arctan2(a[1]-b[1], a[0]-b[0])\n",
        "    angle = np.abs(radians*180.0/np.pi)\n",
        "    \n",
        "    if angle >180.0:\n",
        "        angle = 360-angle\n",
        "        \n",
        "    return angle "
      ],
      "metadata": {
        "id": "DNIlmdGyQMYJ"
      },
      "execution_count": 4,
      "outputs": []
    },
    {
      "cell_type": "code",
      "source": [
        "cap = cv2.VideoCapture(0)\n",
        "\n",
        "# Pushup counter variables\n",
        "counter = 0 \n",
        "position = None\n",
        "\n",
        "# Setup mediapipe instance\n",
        "with mp_pose.Pose(min_detection_confidence=0.5, min_tracking_confidence=0.5) as pose:\n",
        "    while cap.isOpened():\n",
        "        ret, frame = cap.read()\n",
        "        \n",
        "        # Recolor image to RGB\n",
        "        image = cv2.cvtColor(frame, cv2.COLOR_BGR2RGB)\n",
        "        image.flags.writeable = False\n",
        "      \n",
        "        # Make detection\n",
        "        results = pose.process(image)\n",
        "    \n",
        "        # Recolor back to BGR\n",
        "        image.flags.writeable = True\n",
        "        image = cv2.cvtColor(image, cv2.COLOR_RGB2BGR)\n",
        "        \n",
        "        # Getting landmarks\n",
        "        try:\n",
        "            landmarks = results.pose_landmarks.landmark\n",
        "            \n",
        "            # Getting coordinates\n",
        "            left_shoulder = [landmarks[mp_pose.PoseLandmark.LEFT_SHOULDER.value].x,landmarks[mp_pose.PoseLandmark.LEFT_SHOULDER.value].y]\n",
        "            left_elbow = [landmarks[mp_pose.PoseLandmark.LEFT_ELBOW.value].x,landmarks[mp_pose.PoseLandmark.LEFT_ELBOW.value].y]\n",
        "            left_wrist = [landmarks[mp_pose.PoseLandmark.LEFT_WRIST.value].x,landmarks[mp_pose.PoseLandmark.LEFT_WRIST.value].y]\n",
        "            right_shoulder = [landmarks[mp_pose.PoseLandmark.RIGHT_SHOULDER.value].x,landmarks[mp_pose.PoseLandmark.RIGHT_SHOULDER.value].y]\n",
        "            right_elbow = [landmarks[mp_pose.PoseLandmark.RIGHT_ELBOW.value].x,landmarks[mp_pose.PoseLandmark.RIGHT_ELBOW.value].y]\n",
        "            right_wrist = [landmarks[mp_pose.PoseLandmark.RIGHT_WRIST.value].x,landmarks[mp_pose.PoseLandmark.RIGHT_WRIST.value].y]\n",
        "            \n",
        "            # Calculating angle\n",
        "            angle = (calculate_angle(left_shoulder, left_elbow, left_wrist) + calculate_angle(right_shoulder, right_elbow, right_wrist))/2\n",
        "            \n",
        "            # Pushup counter logic\n",
        "            if angle > 160:\n",
        "                position = \"UP\"\n",
        "            if angle < 70 and position =='UP':\n",
        "                position=\"DOWN\"\n",
        "                counter +=1\n",
        "                print(counter)\n",
        "                       \n",
        "        except:\n",
        "            pass\n",
        "\n",
        "        # Setup status box\n",
        "        cv2.rectangle(image, (0,0), (250,73), (245,110,16), -1)\n",
        "        \n",
        "        # Rep data\n",
        "        cv2.putText(image, 'REPS', (15,12), \n",
        "                    cv2.FONT_HERSHEY_SIMPLEX, 0.5, (0,0,0), 1, cv2.LINE_AA)\n",
        "        cv2.putText(image, str(counter), \n",
        "                    (10,60), \n",
        "                    cv2.FONT_HERSHEY_SIMPLEX, 2, (255,255,255), 2, cv2.LINE_AA)\n",
        "        \n",
        "        # Stage data\n",
        "        cv2.putText(image, 'STAGE', (65,12), \n",
        "                    cv2.FONT_HERSHEY_SIMPLEX, 0.5, (0,0,0), 1, cv2.LINE_AA)\n",
        "        cv2.putText(image, position, \n",
        "                    (60,60), \n",
        "                    cv2.FONT_HERSHEY_SIMPLEX, 2, (255,255,255), 2, cv2.LINE_AA)\n",
        "        \n",
        "        \n",
        "        # Render detections\n",
        "        mp_drawing.draw_landmarks(image, results.pose_landmarks, mp_pose.POSE_CONNECTIONS,\n",
        "                                mp_drawing.DrawingSpec(color=(245,114,67), thickness=2, circle_radius=2), \n",
        "                                mp_drawing.DrawingSpec(color=(245,69,222), thickness=2, circle_radius=2) \n",
        "                                 )               \n",
        "        \n",
        "        cv2.imshow('Mediapipe Feed', image)\n",
        "\n",
        "        if cv2.waitKey(10) & 0xFF == ord('q'):\n",
        "            break\n",
        "\n",
        "    cap.release()\n",
        "    cv2.destroyAllWindows()"
      ],
      "metadata": {
        "id": "7AIS192kSV6A"
      },
      "execution_count": 5,
      "outputs": []
    },
    {
      "cell_type": "code",
      "source": [
        ""
      ],
      "metadata": {
        "id": "R6UQ12uUTzjE"
      },
      "execution_count": null,
      "outputs": []
    }
  ]
}